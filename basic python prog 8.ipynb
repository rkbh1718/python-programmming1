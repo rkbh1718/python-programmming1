{
 "cells": [
  {
   "cell_type": "markdown",
   "id": "58882ef4",
   "metadata": {},
   "source": [
    "## 1. Write a Python Program to Add Two Matrices?"
   ]
  },
  {
   "cell_type": "code",
   "execution_count": 1,
   "id": "ffd3cef3",
   "metadata": {},
   "outputs": [],
   "source": [
    "import numpy as np"
   ]
  },
  {
   "cell_type": "code",
   "execution_count": 4,
   "id": "59739949",
   "metadata": {},
   "outputs": [],
   "source": [
    "n1= np.array([[1,2],[2,5]])\n",
    "n2= np.array([[2,3],[5,6]])"
   ]
  },
  {
   "cell_type": "code",
   "execution_count": 5,
   "id": "ddd0508c",
   "metadata": {},
   "outputs": [
    {
     "data": {
      "text/plain": [
       "array([[ 3,  5],\n",
       "       [ 7, 11]])"
      ]
     },
     "execution_count": 5,
     "metadata": {},
     "output_type": "execute_result"
    }
   ],
   "source": [
    "n1+n2"
   ]
  },
  {
   "cell_type": "markdown",
   "id": "ce22bbe2",
   "metadata": {},
   "source": [
    "## 2. Write a Python Program to Multiply Two Matrices?"
   ]
  },
  {
   "cell_type": "code",
   "execution_count": 8,
   "id": "a98c00e4",
   "metadata": {},
   "outputs": [],
   "source": [
    "mul = n1.dot(n2)"
   ]
  },
  {
   "cell_type": "code",
   "execution_count": 9,
   "id": "01901a2b",
   "metadata": {},
   "outputs": [
    {
     "data": {
      "text/plain": [
       "array([[12, 15],\n",
       "       [29, 36]])"
      ]
     },
     "execution_count": 9,
     "metadata": {},
     "output_type": "execute_result"
    }
   ],
   "source": [
    "mul"
   ]
  },
  {
   "cell_type": "markdown",
   "id": "e39b58b7",
   "metadata": {},
   "source": [
    "## 3. Write a Python Program to Transpose a Matrix?"
   ]
  },
  {
   "cell_type": "code",
   "execution_count": null,
   "id": "6c1a2192",
   "metadata": {},
   "outputs": [],
   "source": [
    "mul.T"
   ]
  },
  {
   "cell_type": "markdown",
   "id": "f7a5f874",
   "metadata": {},
   "source": [
    "## 4. Write a Python Program to Sort Words in Alphabetic Order?"
   ]
  },
  {
   "cell_type": "code",
   "execution_count": 6,
   "id": "07c66d30",
   "metadata": {},
   "outputs": [
    {
     "name": "stdout",
     "output_type": "stream",
     "text": [
      "enter string: ram is a good boy\n",
      "a\n",
      "boy\n",
      "good\n",
      "is\n",
      "ram\n"
     ]
    }
   ],
   "source": [
    "my_st =input(\"enter string: \")\n",
    "word = my_st.split()\n",
    "word.sort()\n",
    "\n",
    "for i in word:\n",
    "    print(i)\n"
   ]
  },
  {
   "cell_type": "markdown",
   "id": "ac1344a8",
   "metadata": {},
   "source": [
    "## 5. Write a Python Program to Remove Punctuation From a String?"
   ]
  },
  {
   "cell_type": "code",
   "execution_count": 14,
   "id": "d32c613f",
   "metadata": {},
   "outputs": [
    {
     "name": "stdout",
     "output_type": "stream",
     "text": [
      "enter string: ram is good !boy\n",
      "ram is good \n",
      "boy\n"
     ]
    }
   ],
   "source": [
    "my_st =input(\"enter string: \")\n",
    "\n",
    "word = my_st.split('!')\n",
    "#word.sort()\n",
    "\n",
    "for i in word:\n",
    "    print(i)"
   ]
  },
  {
   "cell_type": "code",
   "execution_count": 12,
   "id": "b54e5815",
   "metadata": {},
   "outputs": [
    {
     "name": "stdout",
     "output_type": "stream",
     "text": [
      "Hello he said and went\n"
     ]
    }
   ],
   "source": [
    "## OR\n",
    "# define punctuation\n",
    "punctuations = '''!()-[]{};:'\"\\,<>./?@#$%^&*_~'''\n",
    "\n",
    "my_str = \"Hello!!!, he said ---and went.\"\n",
    "\n",
    "# To take input from the user\n",
    "#my_str = input(\"Enter a string: \")\n",
    "\n",
    "# remove punctuation from the string\n",
    "no_punct = \"\"\n",
    "for char in my_str:\n",
    "   if char not in punctuations:\n",
    "       no_punct = no_punct + char\n",
    "\n",
    "# display the unpunctuated string\n",
    "print(no_punct)\n"
   ]
  },
  {
   "cell_type": "code",
   "execution_count": null,
   "id": "ec815313",
   "metadata": {},
   "outputs": [],
   "source": []
  }
 ],
 "metadata": {
  "kernelspec": {
   "display_name": "Python 3",
   "language": "python",
   "name": "python3"
  }
 },
 "nbformat": 4,
 "nbformat_minor": 5
}
