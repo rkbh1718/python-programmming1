{
 "cells": [
  {
   "cell_type": "markdown",
   "id": "efe1735b",
   "metadata": {},
   "source": [
    "## Write a Python Program to find sum of array?"
   ]
  },
  {
   "cell_type": "code",
   "execution_count": 2,
   "id": "4f2c6e6b",
   "metadata": {},
   "outputs": [],
   "source": [
    "import array as ar\n",
    "\n",
    "def sum_arr(arr):\n",
    "    sum =0\n",
    "    n =len(arr)\n",
    "    for i in range(n):\n",
    "        sum =sum + arr[i]\n",
    "    return sum    \n",
    "a = ar.array('i',[1,2,3,4])"
   ]
  },
  {
   "cell_type": "code",
   "execution_count": 3,
   "id": "b7541c89",
   "metadata": {},
   "outputs": [
    {
     "data": {
      "text/plain": [
       "10"
      ]
     },
     "execution_count": 3,
     "metadata": {},
     "output_type": "execute_result"
    }
   ],
   "source": [
    "sum_arr(a)"
   ]
  },
  {
   "cell_type": "markdown",
   "id": "69535ee7",
   "metadata": {},
   "source": [
    "## Write a Python Program to find largest element in an array?"
   ]
  },
  {
   "cell_type": "code",
   "execution_count": 4,
   "id": "77497ff3",
   "metadata": {},
   "outputs": [
    {
     "name": "stdout",
     "output_type": "stream",
     "text": [
      "898\n"
     ]
    }
   ],
   "source": [
    "import array as ar\n",
    "\n",
    "a = ar.array('i', [1,99,3,4,10,55,88,898,666,765,7])\n",
    "print(max(a))\n",
    "    "
   ]
  },
  {
   "cell_type": "code",
   "execution_count": 11,
   "id": "d4b8c999",
   "metadata": {},
   "outputs": [],
   "source": [
    "import array as ar\n",
    "def max_arr(arr):\n",
    "    max= a[0]\n",
    "    for i in range(len(arr)):\n",
    "        if (max <a[i]):\n",
    "            max =a[i]\n",
    "    return max\n",
    "a = ar.array('i', [1,99,3,4,10,55,88,898,666,765,7])"
   ]
  },
  {
   "cell_type": "code",
   "execution_count": 12,
   "id": "7253ffe8",
   "metadata": {},
   "outputs": [
    {
     "data": {
      "text/plain": [
       "898"
      ]
     },
     "execution_count": 12,
     "metadata": {},
     "output_type": "execute_result"
    }
   ],
   "source": [
    "max_arr(a)"
   ]
  },
  {
   "cell_type": "markdown",
   "id": "e2b466a3",
   "metadata": {},
   "source": [
    "## Write a Python Program for array rotation?"
   ]
  },
  {
   "cell_type": "code",
   "execution_count": 15,
   "id": "1f204ff5",
   "metadata": {},
   "outputs": [],
   "source": [
    "import array as ar\n",
    "def rorate(a , d):\n",
    "    temp =[]\n",
    "    n = len(a)\n",
    "    for i in range(d , n):\n",
    "        temp.append(a[i])\n",
    "    i =0\n",
    "    for i in range(0 ,d):\n",
    "        temp.append(a[i])\n",
    "    a = temp.copy()\n",
    "    return a\n",
    "\n",
    "arr= ar.array('i',[1,3,2,4,5])"
   ]
  },
  {
   "cell_type": "code",
   "execution_count": 21,
   "id": "fbf1efa3",
   "metadata": {},
   "outputs": [
    {
     "name": "stdout",
     "output_type": "stream",
     "text": [
      "[3, 2, 4, 5, 1]\n"
     ]
    }
   ],
   "source": [
    "print(rorate(arr, 1))"
   ]
  },
  {
   "cell_type": "markdown",
   "id": "a64fee18",
   "metadata": {},
   "source": [
    "## Write a Python Program to Split the array and add the first part to the end?"
   ]
  },
  {
   "cell_type": "code",
   "execution_count": 43,
   "id": "3069c338",
   "metadata": {},
   "outputs": [],
   "source": [
    "import array as ar\n",
    "def using_split(arr , a):\n",
    "    arr =arr[a :] +arr[: a]\n",
    "    #arr = arr[a :] \n",
    "   # arr = arr[: a]\n",
    "\n",
    "    return arr\n",
    "a= ar.array('i',[1,3,2,4,5])"
   ]
  },
  {
   "cell_type": "code",
   "execution_count": 44,
   "id": "2f365d44",
   "metadata": {},
   "outputs": [
    {
     "data": {
      "text/plain": [
       "array('i', [4, 5, 1, 3, 2])"
      ]
     },
     "execution_count": 44,
     "metadata": {},
     "output_type": "execute_result"
    }
   ],
   "source": [
    "using_split(arr ,3)"
   ]
  },
  {
   "cell_type": "markdown",
   "id": "8657029d",
   "metadata": {},
   "source": [
    "## Write a Python Program to check if given array is Monotonic?"
   ]
  },
  {
   "cell_type": "code",
   "execution_count": 49,
   "id": "7ce091df",
   "metadata": {},
   "outputs": [],
   "source": [
    "def monotonic_array(arr):\n",
    "    desc =False\n",
    "    if (arr[0] >arr[1]):\n",
    "        desc =True\n",
    "    for i in range(len(arr)-1):\n",
    "        if (arr[i] < arr[i+1] and desc or arr[i] > arr[i+1] and not desc):\n",
    "            return False\n",
    "    return True\n",
    "\n",
    "                                                      "
   ]
  },
  {
   "cell_type": "code",
   "execution_count": 50,
   "id": "aad550bb",
   "metadata": {},
   "outputs": [
    {
     "name": "stdout",
     "output_type": "stream",
     "text": [
      "False\n"
     ]
    }
   ],
   "source": [
    "print(monotonic_array([1,2,4,3,6]))"
   ]
  },
  {
   "cell_type": "code",
   "execution_count": 51,
   "id": "08a452cf",
   "metadata": {},
   "outputs": [
    {
     "name": "stdout",
     "output_type": "stream",
     "text": [
      "True\n"
     ]
    }
   ],
   "source": [
    "print(monotonic_array([1,2,3,6]))"
   ]
  },
  {
   "cell_type": "code",
   "execution_count": null,
   "id": "77e83625",
   "metadata": {},
   "outputs": [],
   "source": []
  }
 ],
 "metadata": {
  "kernelspec": {
   "display_name": "Python 3",
   "language": "python",
   "name": "python3"
  },
  "language_info": {
   "codemirror_mode": {
    "name": "ipython",
    "version": 3
   },
   "file_extension": ".py",
   "mimetype": "text/x-python",
   "name": "python",
   "nbconvert_exporter": "python",
   "pygments_lexer": "ipython3",
   "version": "3.8.8"
  }
 },
 "nbformat": 4,
 "nbformat_minor": 5
}
