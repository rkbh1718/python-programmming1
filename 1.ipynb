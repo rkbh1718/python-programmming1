{
 "cells": [
  {
   "cell_type": "markdown",
   "id": "dbf48982",
   "metadata": {},
   "source": [
    "1. Write a Python program to print &quot;Hello Python&quot;?"
   ]
  },
  {
   "cell_type": "code",
   "execution_count": 2,
   "id": "79464eef",
   "metadata": {},
   "outputs": [
    {
     "name": "stdout",
     "output_type": "stream",
     "text": [
      " \"Hello Python\" \n"
     ]
    }
   ],
   "source": [
    "print(' \"Hello Python\" ')"
   ]
  },
  {
   "cell_type": "markdown",
   "id": "d031a1d3",
   "metadata": {},
   "source": [
    "2. Write a Python program to do arithmetical operations addition and division.?"
   ]
  },
  {
   "cell_type": "code",
   "execution_count": 3,
   "id": "86ec7158",
   "metadata": {},
   "outputs": [],
   "source": [
    "a =10\n",
    "b=2"
   ]
  },
  {
   "cell_type": "code",
   "execution_count": 4,
   "id": "3633c48b",
   "metadata": {},
   "outputs": [
    {
     "data": {
      "text/plain": [
       "12"
      ]
     },
     "execution_count": 4,
     "metadata": {},
     "output_type": "execute_result"
    }
   ],
   "source": [
    "# addition\n",
    "a+b"
   ]
  },
  {
   "cell_type": "code",
   "execution_count": 5,
   "id": "a861ed5d",
   "metadata": {},
   "outputs": [
    {
     "data": {
      "text/plain": [
       "5.0"
      ]
     },
     "execution_count": 5,
     "metadata": {},
     "output_type": "execute_result"
    }
   ],
   "source": [
    "## division\n",
    "a/b"
   ]
  },
  {
   "cell_type": "markdown",
   "id": "66b748f9",
   "metadata": {},
   "source": [
    "3. Write a Python program to find the area of a triangle?"
   ]
  },
  {
   "cell_type": "code",
   "execution_count": 7,
   "id": "36257444",
   "metadata": {},
   "outputs": [],
   "source": [
    "## formula -- area =1/2(h * b)\n",
    "h = 2\n",
    "b = 4\n",
    "area_of_triangle = 1/2*(2 * 4)"
   ]
  },
  {
   "cell_type": "code",
   "execution_count": 8,
   "id": "c5a61f54",
   "metadata": {},
   "outputs": [
    {
     "data": {
      "text/plain": [
       "4.0"
      ]
     },
     "execution_count": 8,
     "metadata": {},
     "output_type": "execute_result"
    }
   ],
   "source": [
    "area_of_triangle"
   ]
  },
  {
   "cell_type": "code",
   "execution_count": null,
   "id": "349f6b9d",
   "metadata": {},
   "outputs": [],
   "source": [
    "4. Write a Python program to swap two variables?"
   ]
  },
  {
   "cell_type": "code",
   "execution_count": 19,
   "id": "0f6f379e",
   "metadata": {},
   "outputs": [
    {
     "name": "stdout",
     "output_type": "stream",
     "text": [
      "a is before :  3\n",
      "b is before :  4\n",
      "a is after :  4\n",
      "b is after :  3\n"
     ]
    }
   ],
   "source": [
    "a =3\n",
    "b =4\n",
    "\n",
    "print(\"a is before : \" ,a)\n",
    "print(\"b is before : \", b)\n",
    "\n",
    "c =a\n",
    "a =b\n",
    "b =c\n",
    "\n",
    "print(\"a is after : \" ,a)\n",
    "print(\"b is after : \", b)"
   ]
  },
  {
   "cell_type": "code",
   "execution_count": null,
   "id": "4e65a0b8",
   "metadata": {},
   "outputs": [],
   "source": [
    "5. Write a Python program to generate a random number?"
   ]
  },
  {
   "cell_type": "code",
   "execution_count": 22,
   "id": "7418284d",
   "metadata": {},
   "outputs": [
    {
     "name": "stdout",
     "output_type": "stream",
     "text": [
      "9\n"
     ]
    }
   ],
   "source": [
    "import random\n",
    "\n",
    "print(random.randint(0,9))"
   ]
  },
  {
   "cell_type": "code",
   "execution_count": null,
   "id": "21ab83dc",
   "metadata": {},
   "outputs": [],
   "source": []
  }
 ],
 "metadata": {
  "kernelspec": {
   "display_name": "Python 3",
   "language": "python",
   "name": "python3"
  },
  "language_info": {
   "codemirror_mode": {
    "name": "ipython",
    "version": 3
   },
   "file_extension": ".py",
   "mimetype": "text/x-python",
   "name": "python",
   "nbconvert_exporter": "python",
   "pygments_lexer": "ipython3",
   "version": "3.8.8"
  }
 },
 "nbformat": 4,
 "nbformat_minor": 5
}
